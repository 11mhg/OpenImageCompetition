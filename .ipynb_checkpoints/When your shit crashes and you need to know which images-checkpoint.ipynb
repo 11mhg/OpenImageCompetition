{
 "cells": [
  {
   "cell_type": "code",
   "execution_count": 2,
   "metadata": {},
   "outputs": [],
   "source": [
    "import csv\n",
    "names = set()\n",
    "test = set()\n",
    "with open('/home/lam/Desktop/Dataset/OpenImage/annotations/train-new-bbox.csv','r') as f:\n",
    "    bbox_reader = csv.reader(f,delimiter=',')\n",
    "    next(bbox_reader)\n",
    "    for j,i in enumerate(bbox_reader):\n",
    "        names.add(i[0])"
   ]
  },
  {
   "cell_type": "code",
   "execution_count": 3,
   "metadata": {},
   "outputs": [
    {
     "data": {
      "text/plain": [
       "1743042"
      ]
     },
     "execution_count": 3,
     "metadata": {},
     "output_type": "execute_result"
    }
   ],
   "source": [
    "len(names)"
   ]
  },
  {
   "cell_type": "code",
   "execution_count": 1,
   "metadata": {},
   "outputs": [],
   "source": [
    "from elasticsearch import Elasticsearch,client \n",
    "es = Elasticsearch()\n"
   ]
  },
  {
   "cell_type": "code",
   "execution_count": 2,
   "metadata": {},
   "outputs": [],
   "source": [
    "import csv"
   ]
  },
  {
   "cell_type": "code",
   "execution_count": 3,
   "metadata": {},
   "outputs": [
    {
     "data": {
      "text/plain": [
       "{u'batches': 0,\n",
       " u'deleted': 0,\n",
       " u'failures': [],\n",
       " u'noops': 0,\n",
       " u'requests_per_second': -1.0,\n",
       " u'retries': {u'bulk': 0, u'search': 0},\n",
       " u'throttled_millis': 0,\n",
       " u'throttled_until_millis': 0,\n",
       " u'timed_out': False,\n",
       " u'took': 8398,\n",
       " u'total': 0,\n",
       " u'version_conflicts': 0}"
      ]
     },
     "execution_count": 3,
     "metadata": {},
     "output_type": "execute_result"
    }
   ],
   "source": [
    "es.delete_by_query(index='open_image_train',doc_type='train', \\\n",
    "                                body={\n",
    "                       \"query\": { \"bool\": { \"must_not\":{ \"exists\": { \"field\": \"xmin\" } } } }\n",
    "                    })"
   ]
  },
  {
   "cell_type": "code",
   "execution_count": 4,
   "metadata": {},
   "outputs": [],
   "source": [
    "searchResult = es.search(\n",
    "    index = 'open_image_train',\n",
    "    doc_type = 'train',\n",
    "    body = {\n",
    "        'query':{\n",
    "            'match_all' : {}\n",
    "        }\n",
    "    ,\n",
    "    'aggs':{\n",
    "        'my_aggs':{\n",
    "            'terms':{'field': 'id ',\n",
    "                     'min_doc_count': 2,\n",
    "                    'size':1750000}\n",
    "        }\n",
    "    }},request_timeout = 100000)"
   ]
  },
  {
   "cell_type": "code",
   "execution_count": 5,
   "metadata": {},
   "outputs": [],
   "source": [
    "names = set()\n",
    "total = 0\n",
    "for i in searchResult['aggregations']['my_aggs']['buckets']:\n",
    "    names.add(i['key'])\n",
    "    total += i['doc_count']"
   ]
  },
  {
   "cell_type": "code",
   "execution_count": 6,
   "metadata": {},
   "outputs": [
    {
     "name": "stdout",
     "output_type": "stream",
     "text": [
      "0 0\n"
     ]
    }
   ],
   "source": [
    "print len(names),total"
   ]
  },
  {
   "cell_type": "code",
   "execution_count": 9,
   "metadata": {},
   "outputs": [],
   "source": [
    "result = es.get(index='open_image_train',doc_type = 'train',id = '4gLaF2UBiefkQQQvaRj7')"
   ]
  },
  {
   "cell_type": "code",
   "execution_count": 21,
   "metadata": {},
   "outputs": [],
   "source": [
    "\n",
    "with open('logs2.txt','r') as f:\n",
    "    for i in f:\n",
    "        es.delete(index = 'open_image_train', doc_type = 'train', id = i.strip())"
   ]
  },
  {
   "cell_type": "code",
   "execution_count": 22,
   "metadata": {},
   "outputs": [
    {
     "data": {
      "text/plain": [
       "108"
      ]
     },
     "execution_count": 22,
     "metadata": {},
     "output_type": "execute_result"
    }
   ],
   "source": [
    "count"
   ]
  },
  {
   "cell_type": "code",
   "execution_count": 16,
   "metadata": {},
   "outputs": [
    {
     "data": {
      "text/plain": [
       "['h-DyFGUBw1uF-N43CJxu',\n",
       " 'Gt8iFGUBw1uF-N43RYTs',\n",
       " 'weDtFGUBw1uF-N43GJad',\n",
       " 'z983FGUBw1uF-N43l559',\n",
       " '5eFmFWUBw1uF-N43pxxU',\n",
       " 'KgHLFmUBiefkQQQvSgv0',\n",
       " 'pwHRFmUBiefkQQQvohJX',\n",
       " '9t9bFGUBw1uF-N43dtQt',\n",
       " 'F4EURmUBsNbwCoBLs7n2',\n",
       " 'U-FqFWUBw1uF-N43TyE0',\n",
       " 'b99lFGUBw1uF-N437-TQ',\n",
       " '8eG6FWUBw1uF-N434Xd9',\n",
       " 'cWFeY2UBuaI6s6bDoIzf',\n",
       " 'QOHsFWUBw1uF-N43GqoL',\n",
       " 'HeGuFWUBw1uF-N43OGyX',\n",
       " 'COF-FWUBw1uF-N434ziR',\n",
       " '9OC4FGUBw1uF-N43E1Og',\n",
       " 'UuDIFGUBw1uF-N43RGl8',\n",
       " 'ieHmFWUBw1uF-N43CqPA',\n",
       " 'Jn9DQ2UBbMfk2cWb2vPO',\n",
       " '-98fFGUBw1uF-N43eYBa',\n",
       " 'TOCNFGUBw1uF-N43nBw9',\n",
       " '8-AdFWUBw1uF-N43RsuU',\n",
       " 'reDjFGUBw1uF-N43sIvR',\n",
       " 'xn82Q2UBbMfk2cWbvOae',\n",
       " 'bd9rFGUBw1uF-N43XuyL',\n",
       " 'o-GoFWUBw1uF-N43SGXM',\n",
       " 't4BeQ2UBbMfk2cWbcg3D',\n",
       " '22F8Y2UBuaI6s6bDo5Gi',\n",
       " 'XoILSGUBsNbwCoBLlSib',\n",
       " 'goIPSGUBsNbwCoBL9Sw5',\n",
       " '0-HKFWUBw1uF-N43M4eh',\n",
       " 'sIFJRWUBbMfk2cWbk96K',\n",
       " 'keAIFWUBw1uF-N431LXz',\n",
       " 'EoEPRWUBbMfk2cWbtKMY',\n",
       " '54LpR2UBsNbwCoBLyQgQ',\n",
       " 'foIOSGUBsNbwCoBL8Ssr',\n",
       " '8eDNFGUBw1uF-N43sG-_',\n",
       " 'tODfFGUBw1uF-N43wIbI',\n",
       " 'At8jFGUBw1uF-N43uIbK',\n",
       " 'UIEvRmUBsNbwCoBLnMSq',\n",
       " 'PIHRRWUBsNbwCoBL0aTu',\n",
       " 'teApFWUBw1uF-N43vdj2',\n",
       " '6uApFWUBw1uF-N43-9jA',\n",
       " 'moEMRmUBsNbwCoBLurUa',\n",
       " 'geDlFGUBw1uF-N43UI3N',\n",
       " 'MeAqFWUBw1uF-N43Odm2',\n",
       " 'b982FGUBw1uF-N43lZ35',\n",
       " 'woHsRWUBsNbwCoBL3Ko_',\n",
       " '799PFGUBw1uF-N43AcFE',\n",
       " 'hd9tFGUBw1uF-N43Be7p',\n",
       " 'mOChFGUBw1uF-N43ETYc',\n",
       " 'geEHFmUBw1uF-N43AMUV',\n",
       " '8t9qFGUBw1uF-N43U-pK',\n",
       " '2eCnFGUBw1uF-N43_j9c',\n",
       " '6OF2FWUBw1uF-N432C4v',\n",
       " 'WuCDFGUBw1uF-N43Tg50',\n",
       " 'pQH-FmUBiefkQQQvfUCx',\n",
       " 'DAEoF2UBiefkQQQvRmz6',\n",
       " 'vgHUFmUBiefkQQQvWxUu',\n",
       " 'ygETF2UBiefkQQQvv1YW',\n",
       " 'aODZFGUBw1uF-N43QH6e',\n",
       " 'oQH5FmUBiefkQQQviDtE',\n",
       " 'sQHZFmUBiefkQQQvTRqO',\n",
       " '4AEAF2UBiefkQQQvkUKV',\n",
       " 'PgFvF2UBiefkQQQvRLFG',\n",
       " 'zQEEF2UBiefkQQQvPUYb',\n",
       " 'E-CFFGUBw1uF-N43-hIp',\n",
       " '9eDzFGUBw1uF-N43LZ3U',\n",
       " 'jBu_PmUB1BGTKnpgRQaJ',\n",
       " 'CN9SFGUBw1uF-N438MgY',\n",
       " 'buGRFWUBw1uF-N43FEwI',\n",
       " '8wEeF2UBiefkQQQvEmF-',\n",
       " 'CuF0FWUBw1uF-N43Xizv',\n",
       " 'j-FTFWUBw1uF-N433QfX',\n",
       " 'VOCYFGUBw1uF-N43qSt2',\n",
       " 'deGsFWUBw1uF-N43qmrf',\n",
       " 'AeDNFGUBw1uF-N43yHAM',\n",
       " 'seAEFWUBw1uF-N43YrCw',\n",
       " 'PuAXFWUBw1uF-N43rsZs',\n",
       " 'j32rQGUBbMfk2cWb8IZx',\n",
       " '-gHDFmUBiefkQQQvagEK',\n",
       " 'yeALFWUBw1uF-N43p7gG',\n",
       " '8gEuF2UBiefkQQQvZHFz',\n",
       " '7wHdFmUBiefkQQQvAR0p',\n",
       " 'HwGyF2UBiefkQQQvlfJV',\n",
       " 'NAHXFmUBiefkQQQv0hlm',\n",
       " 'UQPyGGUBiefkQQQvty_G',\n",
       " 'FQFlF2UBiefkQQQvJqcM',\n",
       " '7QHmFmUBiefkQQQvxyeW',\n",
       " 'WwEtF2UBiefkQQQvyHGX',\n",
       " 'BQHWFmUBiefkQQQvuhiy',\n",
       " '9QLeF2UBiefkQQQvbhxc',\n",
       " '2QGKF2UBiefkQQQvOMvb',\n",
       " 'tgKbGGUBiefkQQQvfdy7',\n",
       " 'EQL1F2UBiefkQQQvtTUq',\n",
       " 'PQEyF2UBiefkQQQv9HYU',\n",
       " '4gHOFmUBiefkQQQvMw7V',\n",
       " 'zgG8F2UBiefkQQQvyPvn',\n",
       " 'mQLkF2UBiefkQQQvsyN0',\n",
       " '4gLaF2UBiefkQQQvaRj7',\n",
       " 'UgLGF2UBiefkQQQvXQVB',\n",
       " 'YwLGF2UBiefkQQQvcAWE',\n",
       " 'NAGBF2UBiefkQQQvSMMk',\n",
       " 'eQKhGGUBiefkQQQviuMP',\n",
       " 'CgKgGGUBiefkQQQvK-Ly',\n",
       " 'cwKaGGUBiefkQQQvRNuM',\n",
       " 'vwIXGGUBiefkQQQv9FeM']"
      ]
     },
     "execution_count": 16,
     "metadata": {},
     "output_type": "execute_result"
    }
   ],
   "source": [
    "\n",
    "    db.delete(index=\"reestr\",doc_type=\"some_type\",id=1919)"
   ]
  },
  {
   "cell_type": "code",
   "execution_count": 19,
   "metadata": {},
   "outputs": [
    {
     "data": {
      "text/plain": [
       "0"
      ]
     },
     "execution_count": 19,
     "metadata": {},
     "output_type": "execute_result"
    }
   ],
   "source": [
    "len(hold)"
   ]
  },
  {
   "cell_type": "code",
   "execution_count": 18,
   "metadata": {},
   "outputs": [],
   "source": [
    "names = list(names)\n",
    "with open('remove.csv','w') as f :\n",
    "    writer = csv.writer(f,delimiter = ',')\n",
    "    writer.writerows([names])"
   ]
  },
  {
   "cell_type": "code",
   "execution_count": 30,
   "metadata": {},
   "outputs": [],
   "source": [
    "import ast\n",
    "with open('remove.csv','r') as f:\n",
    "    reader = csv.reader(f,delimiter = ',')\n",
    "    i = next(reader)"
   ]
  },
  {
   "cell_type": "code",
   "execution_count": 11,
   "metadata": {},
   "outputs": [
    {
     "name": "stdout",
     "output_type": "stream",
     "text": [
      "35925\n"
     ]
    }
   ],
   "source": [
    "import csv\n",
    "count = set()\n",
    "with open('/home/lam/Desktop/Dataset/OpenImage/annotations/val-bbox.csv','r') as f:\n",
    "    with open('missing_val.csv','w') as g:\n",
    "        bbox_reader = csv.reader(f,delimiter=',')\n",
    "        writer = csv.writer(g)\n",
    "        next(bbox_reader)\n",
    "        for i in bbox_reader:\n",
    "            count.add(i[0])\n",
    "#             if i[0] not in names:\n",
    "#                 writer.writerow(i)\n",
    "#                 count.add(i[0])\n",
    "print len(count)\n",
    "#         257808"
   ]
  },
  {
   "cell_type": "code",
   "execution_count": 21,
   "metadata": {},
   "outputs": [
    {
     "data": {
      "text/plain": [
       "type"
      ]
     },
     "execution_count": 21,
     "metadata": {},
     "output_type": "execute_result"
    }
   ],
   "source": [
    "with open('missing.csv','r') as f:\n",
    "    "
   ]
  },
  {
   "cell_type": "code",
   "execution_count": 5,
   "metadata": {},
   "outputs": [
    {
     "data": {
      "text/plain": [
       "1742537"
      ]
     },
     "execution_count": 5,
     "metadata": {},
     "output_type": "execute_result"
    }
   ],
   "source": [
    "j"
   ]
  },
  {
   "cell_type": "code",
   "execution_count": 1,
   "metadata": {},
   "outputs": [],
   "source": [
    "fail_index = set()\n",
    "with open('./Pipeline/logs_train_new.txt','r') as f:\n",
    "    for i in f:\n",
    "        fail_index.add(i.strip())"
   ]
  },
  {
   "cell_type": "code",
   "execution_count": 3,
   "metadata": {},
   "outputs": [],
   "source": [
    "from elasticsearch import Elasticsearch,client \n",
    "es = Elasticsearch()\n",
    "\n",
    "searchResult = es.search(\n",
    "    index='open_image_train',\n",
    "    doc_type='train',\n",
    "    body={\n",
    "        'query': {\n",
    "                'match_phrase':{\n",
    "                    'id ':{\n",
    "                        'query':'b8a5242ccedb5a6c',\n",
    "                    }\n",
    "                }\n",
    "            }\n",
    "    })\n"
   ]
  },
  {
   "cell_type": "code",
   "execution_count": 5,
   "metadata": {},
   "outputs": [
    {
     "data": {
      "text/plain": [
       "u'o38EQ2UBbMfk2cWb2ruT'"
      ]
     },
     "execution_count": 5,
     "metadata": {},
     "output_type": "execute_result"
    }
   ],
   "source": [
    "searchResult['hits']['hits'][0]['_id']"
   ]
  },
  {
   "cell_type": "code",
   "execution_count": 12,
   "metadata": {},
   "outputs": [],
   "source": [
    "searchResult = es.search(\n",
    "    index = 'open_image_train',\n",
    "    doc_type = 'train',\n",
    "    body = {\n",
    "        'query':{\n",
    "            'match_all' : {}\n",
    "        }\n",
    "    ,\n",
    "    'aggs':{\n",
    "        'my_aggs':{\n",
    "            'terms':{'field': 'id ',\n",
    "                     'min_doc_count':2,\n",
    "                     'size':10000\n",
    "                    }\n",
    "        }\n",
    "    }},request_timeout = 10000)"
   ]
  },
  {
   "cell_type": "code",
   "execution_count": 14,
   "metadata": {},
   "outputs": [
    {
     "name": "stdout",
     "output_type": "stream",
     "text": [
      "4019\n"
     ]
    }
   ],
   "source": [
    "print len(searchResult['aggregations']['my_aggs']['buckets'])\n",
    "# for i in searchResult['hits']['hits']:\n",
    "#     print i.keys()\n",
    "#     print i['_score']\n",
    "#     print i['_source'].keys()\n",
    "#     print i['_source']['id ']\n",
    "#     break"
   ]
  },
  {
   "cell_type": "code",
   "execution_count": null,
   "metadata": {},
   "outputs": [],
   "source": []
  }
 ],
 "metadata": {
  "kernelspec": {
   "display_name": "Python 2",
   "language": "python",
   "name": "python2"
  },
  "language_info": {
   "codemirror_mode": {
    "name": "ipython",
    "version": 2
   },
   "file_extension": ".py",
   "mimetype": "text/x-python",
   "name": "python",
   "nbconvert_exporter": "python",
   "pygments_lexer": "ipython2",
   "version": "2.7.15"
  }
 },
 "nbformat": 4,
 "nbformat_minor": 2
}
