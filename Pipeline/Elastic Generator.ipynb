{
 "cells": [
  {
   "cell_type": "code",
   "execution_count": 1,
   "metadata": {
    "collapsed": true
   },
   "outputs": [],
   "source": [
    "from elasticsearch import Elasticsearch,client \n",
    "es = Elasticsearch()"
   ]
  },
  {
   "cell_type": "code",
   "execution_count": 51,
   "metadata": {},
   "outputs": [],
   "source": [
    "def get_es_batch():\n",
    "    page = es.search(\n",
    "            index = 'pubmed_sents',\n",
    "            doc_type = 'articles',\n",
    "            scroll = '3m',\n",
    "            size = 32,\n",
    "            body = {\n",
    "                'query':{'match_all':{}}\n",
    "            }\n",
    "        )\n",
    "    sid = page['_scroll_id']\n",
    "    scroll_size = page['hits']['total']\n",
    "\n",
    "    # Start scrolling\n",
    "    while (scroll_size > 0):\n",
    "        page = es.scroll(scroll_id = sid, scroll = '2m')\n",
    "        # Update the scroll ID\n",
    "        sid = page['_scroll_id']\n",
    "        # Get the number of results that we returned in the last scroll\n",
    "        scroll_size = len(page['hits']['hits'])\n",
    "        image = [i['_source']['lineNum'] for i in page['hits']['hits']]\n",
    "#         image = [i['_source']['label'] for i in page['hits']['hits']]\n",
    "        for i in image:\n",
    "            yield i"
   ]
  },
  {
   "cell_type": "code",
   "execution_count": null,
   "metadata": {
    "collapsed": true
   },
   "outputs": [],
   "source": [
    "dataset = tf.data.Dataset().batch(32).from_generator(get_es_batch,\n",
    "                                           output_types= tf.float32, \n",
    "                                           output_shapes=(tf.TensorShape([32, None])))"
   ]
  },
  {
   "cell_type": "code",
   "execution_count": 14,
   "metadata": {},
   "outputs": [
    {
     "data": {
      "text/plain": [
       "{u'_id': u'432435',\n",
       " u'_index': u'pubmed_sents',\n",
       " u'_score': 1.0,\n",
       " u'_source': {u'docID': u'12626416',\n",
       "  u'lineNum': 432435,\n",
       "  u'sentence': u'the glycan moiety of human recombinant gonadotrophins (r-hfsh, r-hlh, and r-hcg) produced in cho cell lines has been characterized by a combination of chromatographic and mass spectrometric techniques, including both matrix-assisted laser desorption ionization and electrospray.'},\n",
       " u'_type': u'articles'}"
      ]
     },
     "execution_count": 14,
     "metadata": {},
     "output_type": "execute_result"
    }
   ],
   "source": [
    "iter = dataset.make_initializable_iterator()\n",
    "el = iter.get_next()\n",
    "with tf.Session() as sess:\n",
    "    sess.run(iter.initializer)\n",
    "    print(sess.run(el))\n",
    "    print(sess.run(el))\n",
    "    print(sess.run(el))"
   ]
  }
 ],
 "metadata": {
  "kernelspec": {
   "display_name": "Python 2",
   "language": "python",
   "name": "python2"
  },
  "language_info": {
   "codemirror_mode": {
    "name": "ipython",
    "version": 2
   },
   "file_extension": ".py",
   "mimetype": "text/x-python",
   "name": "python",
   "nbconvert_exporter": "python",
   "pygments_lexer": "ipython2",
   "version": "2.7.13"
  }
 },
 "nbformat": 4,
 "nbformat_minor": 2
}
